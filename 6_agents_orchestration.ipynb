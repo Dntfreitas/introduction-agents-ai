{
  "cells": [
    {
      "cell_type": "markdown",
      "metadata": {
        "id": "view-in-github",
        "colab_type": "text"
      },
      "source": [
        "<a href=\"https://colab.research.google.com/github/Dntfreitas/introduction-agents-ai/blob/main/6_agents_orchestration.ipynb\" target=\"_parent\"><img src=\"https://colab.research.google.com/assets/colab-badge.svg\" alt=\"Open In Colab\"/></a>"
      ]
    },
    {
      "metadata": {
        "id": "c082988a5a420b5e"
      },
      "cell_type": "markdown",
      "source": [
        "# Agents Orchestration\n",
        "\n",
        "This notebook is a simple example of how to use the OpenAI Agents SDK to orchestrate a multi-step process.\n",
        "\n",
        "It demonstrates how to use agents to plan, search, write a report, and send an email.\n",
        "\n",
        "The example is a simple equity research process, where the agent plans searches, performs them, writes a report, and sends an email with the report."
      ],
      "id": "c082988a5a420b5e"
    },
    {
      "cell_type": "code",
      "source": [
        "# Let's make sure we have the required libraries installed for this tutorial.\n",
        "!pip install openai sendgrid openai-agents"
      ],
      "metadata": {
        "id": "GDRzlM7AKXF9"
      },
      "id": "GDRzlM7AKXF9",
      "execution_count": null,
      "outputs": []
    },
    {
      "cell_type": "code",
      "id": "initial_id",
      "metadata": {
        "collapsed": true,
        "id": "initial_id"
      },
      "source": [
        "# Now, let's import the necessary libraries and set up our environment.\n",
        "import os\n",
        "\n",
        "import asyncio\n",
        "from typing import List\n",
        "\n",
        "from agents import Agent, Runner, WebSearchTool, ModelSettings, trace\n",
        "from agents import function_tool\n",
        "from agents.extensions.handoff_prompt import RECOMMENDED_PROMPT_PREFIX\n",
        "from openai import OpenAI\n",
        "from pydantic import BaseModel\n",
        "from sendgrid import sendgrid, Email, To, Content, Mail\n",
        "from IPython.display import Markdown, display"
      ],
      "outputs": [],
      "execution_count": null
    },
    {
      "cell_type": "code",
      "source": [
        "# As we are going to use Google Coolab, we don't need to load the environment variables.\n",
        "# Otherwise, you can use the following code to load the environment variables from a `.env` file.\n",
        "# from dotenv import load_dotenv\n",
        "# load_dotenv(override=True)\n",
        "\n",
        "from google.colab import userdata\n",
        "\n",
        "OPENAI_API_KEY = userdata.get('OPENAI_API_KEY')\n",
        "TWILIO_API_KEY = userdata.get('TWILIO_API_KEY')"
      ],
      "metadata": {
        "id": "VGqIR94-KmqR"
      },
      "id": "VGqIR94-KmqR",
      "execution_count": null,
      "outputs": []
    },
    {
      "cell_type": "code",
      "source": [
        "# Set the enviorment variable\n",
        "os.environ[\"OPENAI_API_KEY\"] = OPENAI_API_KEY"
      ],
      "metadata": {
        "id": "GxWLEFgjLuiC"
      },
      "id": "GxWLEFgjLuiC",
      "execution_count": null,
      "outputs": []
    },
    {
      "metadata": {
        "id": "796256600d9a8ae1"
      },
      "cell_type": "code",
      "source": [
        "HOW_MANY_SEARCHES = 3"
      ],
      "id": "796256600d9a8ae1",
      "outputs": [],
      "execution_count": null
    },
    {
      "metadata": {
        "id": "a926d14da0d01dc8"
      },
      "cell_type": "markdown",
      "source": [
        "# Instructions"
      ],
      "id": "a926d14da0d01dc8"
    },
    {
      "metadata": {
        "id": "7de2059a58b848a7"
      },
      "cell_type": "code",
      "source": [
        "PLANNER_INSTRUCTIONS = (\n",
        "    \"You are an equity-research strategist. Given an investment question or theme, \"\n",
        "    f\"suggest {HOW_MANY_SEARCHES} focused stock-market searches (named tickers, \"\n",
        "    \"sectors, or simple screening criteria) that help identify attractive companies.\"\n",
        ")\n",
        "\n",
        "SEARCHER_INSTRUCTIONS = (\n",
        "    \"You are a research assistant. Use **WebSearchTool** to pull up-to-date information \"\n",
        "    \"for the given search term. Summarise the key take-aways in ≤ 300 words, using \"\n",
        "    \"plain English. Highlight:\\n\"\n",
        "    \"• What the company (or sector) does\\n\"\n",
        "    \"• Latest price and 52-week range (if easily found)\\n\"\n",
        "    \"• Any notable recent news or catalysts\\n\"\n",
        "    \"Explain jargon briefly so a newcomer can follow.\"\n",
        ")\n",
        "\n",
        "WRITER_INSTRUCTIONS = (\n",
        "    \"You are a senior equity analyst writing a beginner-friendly research note. \"\n",
        "    \"Begin with an outline, then craft a detailed markdown report (≥ 1 000 words) that covers:\\n\"\n",
        "    \"• Company/sector overview (plain English)\\n\"\n",
        "    \"• Why it might be a good investment now\\n\"\n",
        "    \"• Key numbers (define any finance terms!)\\n\"\n",
        "    \"• Risks to monitor\\n\"\n",
        "    \"Finish with 2–3 follow-up questions.\"\n",
        ")"
      ],
      "id": "7de2059a58b848a7",
      "outputs": [],
      "execution_count": null
    },
    {
      "metadata": {
        "id": "d2027120a888117a"
      },
      "cell_type": "markdown",
      "source": [
        "# Data models"
      ],
      "id": "d2027120a888117a"
    },
    {
      "metadata": {
        "id": "2e8ae39d27ca1288"
      },
      "cell_type": "code",
      "source": [
        "class WebSearchItem(BaseModel):\n",
        "    reason: str\n",
        "    \"Your reasoning for why this search is important to the query.\"\n",
        "    query: str\n",
        "    \"The search term to use for the web search.\"\n",
        "\n",
        "\n",
        "class WebSearchPlan(BaseModel):\n",
        "    searches: List[WebSearchItem]\n",
        "    \"\"\"A list of web searches to perform to best answer the query.\"\"\"\n",
        "\n",
        "\n",
        "class ReportData(BaseModel):\n",
        "    short_summary: str\n",
        "    \"\"\"A short 2-3 sentence summary of the findings.\"\"\"\n",
        "    markdown_report: str\n",
        "    \"\"\"The final report\"\"\"\n",
        "    follow_up_questions: List[str]\n",
        "    \"\"\"Suggested topics to research further\"\"\""
      ],
      "id": "2e8ae39d27ca1288",
      "outputs": [],
      "execution_count": null
    },
    {
      "metadata": {
        "id": "dc7dc3d3003f180d"
      },
      "cell_type": "markdown",
      "source": [
        "# Tools"
      ],
      "id": "dc7dc3d3003f180d"
    },
    {
      "metadata": {
        "id": "bef6cb9704d3ef49"
      },
      "cell_type": "code",
      "source": [
        "@function_tool\n",
        "def send_email(body: str, subject: str) -> dict:\n",
        "    \"\"\"\n",
        "    Send out an email with the given subject and HTML body.\n",
        "    :param body: the body of the email in HTML format\n",
        "    :param subject: the subject of the email\n",
        "    :return: the status of the email\n",
        "    \"\"\"\n",
        "    sg = sendgrid.SendGridAPIClient(api_key=TWILIO_API_KEY)\n",
        "    from_email = Email(\"diogo.nt.freitas@gmail.com\")\n",
        "    to_email = To(\"diogo.nt.freitas@gmail.com\")\n",
        "    content = Content(\"text/html\", body)\n",
        "    mail = Mail(from_email, to_email, subject, content).get()\n",
        "    response = sg.client.mail.send.post(request_body=mail)\n",
        "    return {\"status\": response.status_code}"
      ],
      "id": "bef6cb9704d3ef49",
      "outputs": [],
      "execution_count": null
    },
    {
      "metadata": {
        "id": "cc5c2910ff2bad5e"
      },
      "cell_type": "markdown",
      "source": [
        "# Agents"
      ],
      "id": "cc5c2910ff2bad5e"
    },
    {
      "metadata": {
        "id": "32c4ba1690199c1f"
      },
      "cell_type": "code",
      "source": [
        "planner_agent = Agent(\n",
        "    name=\"PlannerAgent\",\n",
        "    instructions=PLANNER_INSTRUCTIONS,\n",
        "    model=\"gpt-4o-mini\",\n",
        "    output_type=WebSearchPlan,\n",
        ")\n",
        "\n",
        "search_agent = Agent(\n",
        "    name=\"SearchAgent\",\n",
        "    instructions=SEARCHER_INSTRUCTIONS,\n",
        "    tools=[WebSearchTool(search_context_size=\"low\")],\n",
        "    model=\"gpt-4o-mini\",\n",
        "    model_settings=ModelSettings(tool_choice=\"required\"),\n",
        ")\n",
        "\n",
        "writer_agent = Agent(\n",
        "    name=\"WriterAgent\",\n",
        "    instructions=WRITER_INSTRUCTIONS,\n",
        "    model=\"gpt-4o-mini\",\n",
        "    output_type=ReportData,\n",
        ")\n"
      ],
      "id": "32c4ba1690199c1f",
      "outputs": [],
      "execution_count": null
    },
    {
      "metadata": {
        "id": "38b166877998d158"
      },
      "cell_type": "code",
      "source": [
        "# HTML email body converter (this is a tool/agent)\n",
        "html_instructions = f\"\"\"\n",
        "{RECOMMENDED_PROMPT_PREFIX}\n",
        "You can convert a text email body to an HTML email body.\n",
        "You are given a text email body which might have some markdown\n",
        "and you need to convert it to an HTML email body with simple, clear, compelling layout and design. Please reply only with the HTML code.\"\"\"\n",
        "\n",
        "html_converter = Agent(name=\"HTML email body converter\", instructions=html_instructions, model=\"gpt-4o-mini\")\n",
        "html_tool = html_converter.as_tool(tool_name=\"html_converter\",\n",
        "                                   tool_description=\"Convert a text email body to an HTML email body\")\n",
        "\n",
        "# Subject writer (this is a tool/agent)\n",
        "subject_instructions = f\"\"\"\n",
        "{RECOMMENDED_PROMPT_PREFIX}\n",
        "You can write a subject for an email.\n",
        "You are given a message and you need to write a subject for an email that is likely to get a response.\"\"\"\n",
        "\n",
        "subject_writer = Agent(name=\"Email subject writer\", instructions=subject_instructions, model=\"gpt-4o-mini\")\n",
        "subject_tool = subject_writer.as_tool(tool_name=\"subject_writer\",\n",
        "                                      tool_description=\"Write a subject for a reservation email\")\n",
        "\n",
        "email_tools = [subject_tool, html_tool, send_email]\n",
        "\n",
        "instructions = \"\"\"\n",
        "{RECOMMENDED_PROMPT_PREFIX}\n",
        "You are an email formatter and sender. You receive the body of an email to be sent.\n",
        "You first use the subject_writer tool to write a subject for the email, then use the html_converter tool to convert the body to HTML.\n",
        "Finally, you use the send_email tool to send the email with the subject and HTML body.\"\"\"\n",
        "\n",
        "emailer_agent = Agent(\n",
        "    name=\"Email Manager\",\n",
        "    instructions=instructions,\n",
        "    tools=email_tools,\n",
        "    model=\"gpt-4o-mini\",\n",
        "    handoff_description=\"Convert an email to HTML and send it\")"
      ],
      "id": "38b166877998d158",
      "outputs": [],
      "execution_count": null
    },
    {
      "metadata": {
        "id": "253ee96240df304b"
      },
      "cell_type": "markdown",
      "source": [
        "# Pipeline helpers"
      ],
      "id": "253ee96240df304b"
    },
    {
      "metadata": {
        "id": "448f3ac399c1c00c"
      },
      "cell_type": "code",
      "source": [
        "async def plan_searches(query: str) -> WebSearchPlan:\n",
        "    print(\"Planning searches...\")\n",
        "    res = await Runner.run(planner_agent, f\"Query: {query}\")\n",
        "    print(f\"Will perform {len(res.final_output.searches)} searches\")\n",
        "    return res.final_output\n",
        "\n",
        "\n",
        "async def run_search(item: WebSearchItem):\n",
        "    input = f\"Search term: {item.query}\\nReason: {item.reason}\"\n",
        "    res = await Runner.run(search_agent, input)\n",
        "    return res.final_output\n",
        "\n",
        "\n",
        "async def perform_searches(plan: WebSearchPlan):\n",
        "    print(\"Searching...\")\n",
        "    tasks = [asyncio.create_task(run_search(it)) for it in plan.searches]\n",
        "    res = await asyncio.gather(*tasks)\n",
        "    print(\"Finished searching\")\n",
        "    return res\n",
        "\n",
        "\n",
        "async def write_report(query: str, summaries: List[str]) -> ReportData:\n",
        "    print(\"Thinking about report...\")\n",
        "    prompt = f\"Original query: {query}\\nSummaries: {summaries}\"\n",
        "    res = await Runner.run(writer_agent, prompt)\n",
        "    print(\"Finished writing report\")\n",
        "    return res.final_output\n",
        "\n",
        "\n",
        "async def send_email(report: ReportData):\n",
        "    print(\"Writing email...\")\n",
        "    res = await Runner.run(emailer_agent, report.markdown_report)\n",
        "    print(\"Email sent\")\n",
        "    return res\n"
      ],
      "id": "448f3ac399c1c00c",
      "outputs": [],
      "execution_count": null
    },
    {
      "metadata": {
        "id": "99c619bcf2ae5724"
      },
      "cell_type": "markdown",
      "source": [
        "# Orchestration"
      ],
      "id": "99c619bcf2ae5724"
    },
    {
      "metadata": {
        "id": "37183a4027dafd8e"
      },
      "cell_type": "code",
      "source": [
        "query = \"Cost-efficient renewable-energy stocks for long-term growth\"\n",
        "\n",
        "with trace(\"Equity-Research\"):\n",
        "    plan = await plan_searches(query)\n",
        "    summaries = await perform_searches(plan)\n",
        "    report = await write_report(query, summaries)\n",
        "    await send_email(report)\n",
        "    display(Markdown(report.short_summary))\n",
        "    display(Markdown(report.markdown_report))\n",
        "    print(\"\\nFollow-ups:\")\n",
        "    for q in report.follow_up_questions:\n",
        "        print(\"•\", q)"
      ],
      "id": "37183a4027dafd8e",
      "outputs": [],
      "execution_count": null
    }
  ],
  "metadata": {
    "kernelspec": {
      "display_name": "Python 3",
      "language": "python",
      "name": "python3"
    },
    "language_info": {
      "codemirror_mode": {
        "name": "ipython",
        "version": 2
      },
      "file_extension": ".py",
      "mimetype": "text/x-python",
      "name": "python",
      "nbconvert_exporter": "python",
      "pygments_lexer": "ipython2",
      "version": "2.7.6"
    },
    "colab": {
      "provenance": [],
      "include_colab_link": true
    }
  },
  "nbformat": 4,
  "nbformat_minor": 5
}
