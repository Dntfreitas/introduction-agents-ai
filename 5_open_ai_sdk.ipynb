{
  "cells": [
    {
      "cell_type": "markdown",
      "metadata": {
        "id": "view-in-github",
        "colab_type": "text"
      },
      "source": [
        "<a href=\"https://colab.research.google.com/github/Dntfreitas/introduction-agents-ai/blob/main/5_open_ai_sdk.ipynb\" target=\"_parent\"><img src=\"https://colab.research.google.com/assets/colab-badge.svg\" alt=\"Open In Colab\"/></a>"
      ]
    },
    {
      "metadata": {
        "id": "4d512cf15af39c82"
      },
      "cell_type": "markdown",
      "source": [
        "# Agents\n",
        "\n",
        "Agents are the core building block in your apps. An agent is a large language model (LLM), configured with instructions and tools.\n",
        "\n",
        "## Basic configuration\n",
        "\n",
        "The most common properties of an agent you'll configure are:\n",
        "\n",
        "-   `instructions`: also known as a developer message or system prompt.\n",
        "-   `model`: which LLM to use, and optional `model_settings` to configure model tuning parameters like temperature, top_p, etc.\n",
        "-   `tools`: Tools that the agent can use to achieve its tasks.\n",
        "\n",
        "# OpenAI Agents SDK\n",
        "\n",
        "The [OpenAI Agents SDK](https://github.com/openai/openai-agents-python) enables you to build agentic AI apps in a lightweight, easy-to-use package with very few abstractions. The Agents SDK has a very small set of primitives:\n",
        "\n",
        "-   **Agents**, which are LLMs equipped with instructions and tools\n",
        "-   **Handoffs**, which allow agents to delegate to other agents for specific tasks\n",
        "-   **Guardrails**, which enable the inputs to agents to be validated\n",
        "\n",
        "In addition, the SDK comes with built-in **tracing** that lets you visualize and debug your agentic flows, as well as evaluate them and even fine-tune models for your application.\n",
        "\n",
        "The SDK also allows to turn any Python function into a tool, with automatic schema generation and Pydantic-powered validation."
      ],
      "id": "4d512cf15af39c82"
    },
    {
      "metadata": {
        "id": "90f1aec491b7dd1"
      },
      "cell_type": "markdown",
      "source": [
        "# asyncio\n",
        "\n",
        "_Before we start, it's important to note that asyncio is not a threading library. It is a single-threaded, single-process design that uses cooperative multitasking. We better understand this before we start._\n",
        "\n",
        "- Provides a lightweight framework for concurrent programming in Python.\n",
        "- Allows you to write asynchronous code using the async/await syntax.\n",
        "- Functions defined with async def are coroutines, which can be paused and resumed.\n",
        "- Calling a coroutine function returns a coroutine object, which can be awaited. Meaning that is not executed until you await it.\n",
        "- **Event Loop:** At the core of asyncio is the event loop, which handles the scheduling of tasks and allows for non-blocking I/O operations. This means that while waiting for one operation to complete (like reading data from a server), the program can continue running other tasks.\n",
        "- To run the coroutine, we must await it in an event loop. While a coroutine is waiting (e.g., waiting for an answer of an LLM), the event loop can run other tasks.\n",
        "- It is _faking_ multi-threading, but it is not true multi-threading. It is a single-threaded, single-process design that uses cooperative multitasking.\n",
        "\n",
        "### Example:\n",
        "\n",
        "```python\n",
        "import asyncio\n",
        "\n",
        "async def do_some_work():\n",
        "    print(\"Starting work\")\n",
        "    await asyncio.sleep(1)\n",
        "    print(\"Work complete\")\n",
        "\n",
        "# Example of running a coroutine\n",
        "await do_some_work()\n",
        "\n",
        "# As soon as one task is waiting, the event loop can run other tasks\n",
        "results = await asyncio.gather(\n",
        "                do_some_work(),\n",
        "                do_some_work(),\n",
        "                do_some_work()\n",
        "            )\n",
        "```"
      ],
      "id": "90f1aec491b7dd1"
    },
    {
      "metadata": {
        "ExecuteTime": {
          "end_time": "2025-05-19T22:56:06.864717Z",
          "start_time": "2025-05-19T22:56:06.003305Z"
        },
        "id": "cdc1afc3ca8d62b3"
      },
      "cell_type": "code",
      "source": [
        "# Let's make sure we have the required libraries installed for this tutorial.\n",
        "!pip install openai openai-agents sendgrid"
      ],
      "id": "cdc1afc3ca8d62b3",
      "outputs": [],
      "execution_count": null
    },
    {
      "metadata": {
        "ExecuteTime": {
          "end_time": "2025-05-19T23:24:36.738308Z",
          "start_time": "2025-05-19T23:24:36.722398Z"
        },
        "id": "aeb6278156dc0af9"
      },
      "cell_type": "code",
      "source": [
        "# Now, let's import the necessary libraries and set up our environment.\n",
        "\n",
        "import os\n",
        "from typing import List\n",
        "\n",
        "import sendgrid\n",
        "from IPython.display import Markdown, display\n",
        "from agents import Agent, Runner, trace\n",
        "from agents import WebSearchTool\n",
        "from agents import function_tool\n",
        "from agents.extensions.handoff_prompt import RECOMMENDED_PROMPT_PREFIX\n",
        "from pydantic import BaseModel\n",
        "from sendgrid.helpers.mail import Mail, Email, To, Content\n"
      ],
      "id": "aeb6278156dc0af9",
      "outputs": [],
      "execution_count": null
    },
    {
      "metadata": {
        "id": "35591817f5317cd4"
      },
      "cell_type": "code",
      "outputs": [],
      "execution_count": null,
      "source": [
        "# As we are going to use Google Coolab, we don't need to load the environment variables.\n",
        "# Otherwise, you can use the following code to load the environment variables from a `.env` file.\n",
        "# from dotenv import load_dotenv\n",
        "# load_dotenv(override=True)\n",
        "\n",
        "from google.colab import userdata\n",
        "\n",
        "OPENAI_API_KEY = userdata.get('OPENAI_API_KEY')\n",
        "TWILIO_API_KEY = userdata.get('TWILIO_API_KEY')"
      ],
      "id": "35591817f5317cd4"
    },
    {
      "metadata": {
        "id": "8b809d165b9963d4"
      },
      "cell_type": "code",
      "outputs": [],
      "execution_count": null,
      "source": [
        "# Set the enviorment variable\n",
        "os.environ[\"OPENAI_API_KEY\"] = OPENAI_API_KEY"
      ],
      "id": "8b809d165b9963d4"
    },
    {
      "metadata": {
        "id": "aaba36314973ee15"
      },
      "cell_type": "markdown",
      "source": [
        "# Hello, World! Example"
      ],
      "id": "aaba36314973ee15"
    },
    {
      "metadata": {
        "ExecuteTime": {
          "end_time": "2025-05-19T22:58:30.062765Z",
          "start_time": "2025-05-19T22:58:25.720252Z"
        },
        "id": "e4491ed09984d5b9"
      },
      "cell_type": "code",
      "source": [
        "agent = Agent(name=\"Tourist Guide\",\n",
        "              instructions=\"You are a tourist guide in Madeira Island. You help tourists with their questions, and try to convince them to visit the island.\",\n",
        "              model=\"gpt-4o-mini\")\n",
        "\n",
        "result = await Runner.run(agent, \"Tell me a fun fact about Madeira Island\")"
      ],
      "id": "e4491ed09984d5b9",
      "outputs": [],
      "execution_count": null
    },
    {
      "metadata": {
        "ExecuteTime": {
          "end_time": "2025-05-19T22:58:30.092041Z",
          "start_time": "2025-05-19T22:58:30.088246Z"
        },
        "id": "8634c79caf9dc335"
      },
      "cell_type": "code",
      "source": [
        "display(Markdown(result.final_output))"
      ],
      "id": "8634c79caf9dc335",
      "outputs": [],
      "execution_count": null
    },
    {
      "metadata": {
        "ExecuteTime": {
          "end_time": "2025-05-19T23:00:53.244735Z",
          "start_time": "2025-05-19T23:00:50.162601Z"
        },
        "id": "44fed82bdd0118cf"
      },
      "cell_type": "code",
      "source": [
        "# Let's investigate the trace\n",
        "with trace(\"Telling a fun fact\"):\n",
        "    result = await Runner.run(agent, \"Tell a fun fact about Madeira Island\")\n",
        "    display(Markdown(result.final_output))"
      ],
      "id": "44fed82bdd0118cf",
      "outputs": [],
      "execution_count": null
    },
    {
      "metadata": {
        "ExecuteTime": {
          "end_time": "2025-05-19T23:26:51.718032Z",
          "start_time": "2025-05-19T23:26:47.798190Z"
        },
        "id": "c21fd800ad61506e"
      },
      "cell_type": "code",
      "source": [
        "# WebSearchTool is a tool that allows you to search the web for information. It is a hosted tool, meaning that it is provided by OpenAI and does not require any additional setup.\n",
        "agent = Agent(\n",
        "    name=\"Web searcher\",\n",
        "    instructions=\"You are a helpful agent.\",\n",
        "    tools=[WebSearchTool(user_location={\"type\": \"approximate\", \"city\": \"Funchal, Madeira\"})],\n",
        ")\n",
        "\n",
        "with trace(\"Web search example\"):\n",
        "    result = await Runner.run(\n",
        "        agent,\n",
        "        \"Who is the current president of the Regional Government of Madeira? When was he/she elected? And what is the name of the party?\",\n",
        "    )\n",
        "    display(Markdown(result.final_output))"
      ],
      "id": "c21fd800ad61506e",
      "outputs": [],
      "execution_count": null
    },
    {
      "metadata": {
        "id": "38225a0b07b63160"
      },
      "cell_type": "markdown",
      "source": [
        "# Another way of defining tools\n",
        "\n",
        "The `function_tool` decorator allows you to define a function as a tool. This is useful when you want to create a tool that can be used by an agent.\n",
        "\n",
        "Using the docstring of the function, the decorator will automatically generate the schema for the function. This is useful when you want to create a tool that can be used by an agent."
      ],
      "id": "38225a0b07b63160"
    },
    {
      "metadata": {
        "ExecuteTime": {
          "end_time": "2025-05-19T23:03:12.327605Z",
          "start_time": "2025-05-19T23:03:12.304395Z"
        },
        "id": "b0bdcdcab1149f21"
      },
      "cell_type": "code",
      "source": [
        "@function_tool\n",
        "def send_email(body: str, to_email: str, subject: str) -> dict:\n",
        "    \"\"\"\n",
        "    Send out an email with the given subject and HTML body.\n",
        "    :param body: the body of the email in HTML format\n",
        "    :param to_email: the email address to send the email to\n",
        "    :param subject: the subject of the email\n",
        "    :return: the status of the email\n",
        "    \"\"\"\n",
        "    sg = sendgrid.SendGridAPIClient(api_key=TWILIO_API_KEY)\n",
        "    from_email = Email(\"diogo.nt.freitas@gmail.com\")\n",
        "    to_email = To(to_email)\n",
        "    content = Content(\"text/html\", body)\n",
        "    mail = Mail(from_email, to_email, subject, content).get()\n",
        "    response = sg.client.mail.send.post(request_body=mail)\n",
        "    return {\"status\": response.status_code}\n",
        "\n",
        "\n",
        "@function_tool\n",
        "def save_reservation(name: str, email: str, activity: str, date: str, people: int) -> dict:\n",
        "    \"\"\"\n",
        "    Save the reservation to a local file.\n",
        "    \"\"\"\n",
        "    reservation = f\"{name}, {email}, {activity}, {date}, {people} people\\n\"\n",
        "    with open(\"reservations.txt\", \"a\") as f:\n",
        "        f.write(reservation)\n",
        "    return {\"status\": \"saved\"}\n",
        "\n",
        "\n",
        "@function_tool\n",
        "def generate_invoice(\n",
        "        name: str,\n",
        "        email: str,\n",
        "        activity: str,\n",
        "        date: str,\n",
        "        people: int,\n",
        "        total_price: float\n",
        ") -> dict:\n",
        "    \"\"\"\n",
        "    Generate and save an HTML invoice for a reservation.\n",
        "\n",
        "    :param name: Name of the person making the reservation\n",
        "    :param email: Email address of the person making the reservation\n",
        "    :param activity: Name of the activity reserved\n",
        "    :param date: Date of the reservation\n",
        "    :param people: Number of people in the reservation\n",
        "    :param total_price: Total price of the reservation, i.e, price per person * number of people\n",
        "    \"\"\"\n",
        "\n",
        "    # HTML template for the invoice\n",
        "    invoice_html = f\"\"\"\n",
        "    <html>\n",
        "        <head>\n",
        "            <style>\n",
        "                body {{ font-family: Arial, sans-serif; }}\n",
        "                .invoice-box {{\n",
        "                    max-width: 600px;\n",
        "                    margin: auto;\n",
        "                    padding: 30px;\n",
        "                    border: 1px solid #eee;\n",
        "                    box-shadow: 0 0 10px rgba(0, 0, 0, 0.15);\n",
        "                }}\n",
        "                .invoice-header {{\n",
        "                    text-align: center;\n",
        "                    margin-bottom: 20px;\n",
        "                }}\n",
        "                .details td {{\n",
        "                    padding: 8px;\n",
        "                    border-bottom: 1px solid #eee;\n",
        "                }}\n",
        "                .total {{\n",
        "                    font-weight: bold;\n",
        "                    text-align: right;\n",
        "                }}\n",
        "            </style>\n",
        "        </head>\n",
        "        <body>\n",
        "            <div class=\"invoice-box\">\n",
        "                <div class=\"invoice-header\">\n",
        "                    <h2>Reservation Invoice</h2>\n",
        "                    <p>{date}</p>\n",
        "                </div>\n",
        "                <table class=\"details\" width=\"100%\">\n",
        "                    <tr><td>Name:</td><td>{name}</td></tr>\n",
        "                    <tr><td>Email:</td><td>{email}</td></tr>\n",
        "                    <tr><td>Activity:</td><td>{activity.title()}</td></tr>\n",
        "                    <tr><td>Participants:</td><td>{people}</td></tr>\n",
        "                    <tr class=\"total\"><td>Total Price:</td><td>€{total_price:.2f}</td></tr>\n",
        "                </table>\n",
        "            </div>\n",
        "        </body>\n",
        "    </html>\n",
        "    \"\"\"\n",
        "\n",
        "    # Ensure output folder exists\n",
        "    os.makedirs(\"invoices\", exist_ok=True)\n",
        "\n",
        "    # Sanitize filename\n",
        "    safe_name = name.replace(\" \", \"_\").replace(\"/\", \"-\")\n",
        "    safe_activity = activity.replace(\" \", \"_\").replace(\"/\", \"-\")\n",
        "    filename = f\"invoices/{safe_name}_{safe_activity}_{date}.html\"\n",
        "\n",
        "    # Write file\n",
        "    with open(filename, \"w\", encoding=\"utf-8\") as f:\n",
        "        f.write(invoice_html)\n",
        "\n",
        "    return {\"status\": \"invoice_saved\", \"file\": filename}"
      ],
      "id": "b0bdcdcab1149f21",
      "outputs": [],
      "execution_count": null
    },
    {
      "metadata": {
        "id": "e2015f7f727623e7"
      },
      "cell_type": "markdown",
      "source": [
        "# Agent as a tool\n",
        "\n",
        "The `as_tool` method allows you to use an agent as a tool. This is useful when you want to create a tool that can be used by another agent.\n",
        "\n",
        "To make sure that LLMs understand handoffs properly, it's recommend including information about handoffs in your agents. We suggest adding the prefix `RECOMMENDED_PROMPT_PREFIX`. Note: We will see handoffs in the next section.\n"
      ],
      "id": "e2015f7f727623e7"
    },
    {
      "metadata": {
        "ExecuteTime": {
          "end_time": "2025-05-19T23:16:25.000845Z",
          "start_time": "2025-05-19T23:16:24.988442Z"
        },
        "id": "e29c53f24a0d479c"
      },
      "cell_type": "code",
      "source": [
        "# HTML email body converter (this is a tool/agent)\n",
        "html_instructions = f\"\"\"\n",
        "{RECOMMENDED_PROMPT_PREFIX}\n",
        "You can convert a text email body to an HTML email body.\n",
        "You are given a text email body which might have some markdown\n",
        "and you need to convert it to an HTML email body with simple, clear, compelling layout and design. Please reply only with the HTML code.\"\"\"\n",
        "\n",
        "html_converter = Agent(name=\"HTML email body converter\", instructions=html_instructions, model=\"gpt-4o-mini\")\n",
        "html_tool = html_converter.as_tool(tool_name=\"html_converter\",\n",
        "                                   tool_description=\"Convert a text email body to an HTML email body\")\n",
        "\n",
        "# Subject writer (this is a tool/agent)\n",
        "subject_instructions = f\"\"\"\n",
        "{RECOMMENDED_PROMPT_PREFIX}\n",
        "You can write a subject for an email.\n",
        "You are given a message and you need to write a subject for an email that is likely to get a response.\"\"\"\n",
        "\n",
        "subject_writer = Agent(name=\"Email subject writer\", instructions=subject_instructions, model=\"gpt-4o-mini\")\n",
        "subject_tool = subject_writer.as_tool(tool_name=\"subject_writer\",\n",
        "                                      tool_description=\"Write a subject for a reservation email\")"
      ],
      "id": "e29c53f24a0d479c",
      "outputs": [],
      "execution_count": null
    },
    {
      "metadata": {
        "ExecuteTime": {
          "end_time": "2025-05-19T23:16:26.541285Z",
          "start_time": "2025-05-19T23:16:26.538846Z"
        },
        "id": "1fced62060a5a2ee"
      },
      "cell_type": "code",
      "source": [
        "email_tools = [subject_tool, html_tool, send_email]"
      ],
      "id": "1fced62060a5a2ee",
      "outputs": [],
      "execution_count": null
    },
    {
      "metadata": {
        "id": "27a5c02eee2df67a"
      },
      "cell_type": "markdown",
      "source": [
        "### Handoffs represent a way an agent can delegate to an agent, passing control to it\n",
        "\n",
        "Handoffs and Agents-as-tools are similar.\n",
        "\n",
        "Handoffs allow an agent to delegate tasks to another agent. This is particularly useful in scenarios where different agents specialize in distinct areas. For example, a customer support app might have agents that each specifically handle tasks like order status, refunds, FAQs, etc.\n",
        "\n",
        "Put it differently, handoffs are sub-agents that the agent can delegate to. You provide a list of handoffs, and the agent can choose to delegate to them if relevant. This is a powerful pattern that allows orchestrating modular, specialized agents that excel at a single task.\n",
        "\n",
        "_Source_: [OpenAI](https://openai.github.io/openai-agents-python/handoffs/)\n",
        "\n",
        "In both cases, an Agent can collaborate with another Agent\n",
        "\n",
        "With tools, control passes back\n",
        "\n",
        "With handoffs, control passes across\n"
      ],
      "id": "27a5c02eee2df67a"
    },
    {
      "metadata": {
        "ExecuteTime": {
          "end_time": "2025-05-19T23:17:17.191791Z",
          "start_time": "2025-05-19T23:17:17.185249Z"
        },
        "id": "9fe719c1b4ad27f3"
      },
      "cell_type": "code",
      "source": [
        "instructions = \"\"\"\n",
        "{RECOMMENDED_PROMPT_PREFIX}\n",
        "You are an email formatter and sender. You receive the body of an email to be sent.\n",
        "You first use the subject_writer tool to write a subject for the email, then use the html_converter tool to convert the body to HTML.\n",
        "Finally, you use the send_email tool to send the email with the subject and HTML body.\"\"\"\n",
        "\n",
        "emailer_agent = Agent(\n",
        "    name=\"Email Manager\",\n",
        "    instructions=instructions,\n",
        "    tools=email_tools,\n",
        "    model=\"gpt-4o-mini\",\n",
        "    handoff_description=\"Convert an email to HTML and send it\")"
      ],
      "id": "9fe719c1b4ad27f3",
      "outputs": [],
      "execution_count": null
    },
    {
      "metadata": {
        "ExecuteTime": {
          "end_time": "2025-05-19T23:17:28.222863Z",
          "start_time": "2025-05-19T23:17:28.219785Z"
        },
        "id": "7e88ff1cd5d9b87"
      },
      "cell_type": "code",
      "source": [
        "# Let's load the activities from the markdown file\n",
        "def load_activities(path=\"docs/pricing.md\"):\n",
        "    with open(path, \"r\", encoding=\"utf-8\") as f:\n",
        "        return f.read()\n",
        "\n",
        "\n",
        "activities_markdown = load_activities()"
      ],
      "id": "7e88ff1cd5d9b87",
      "outputs": [],
      "execution_count": null
    },
    {
      "metadata": {
        "ExecuteTime": {
          "end_time": "2025-05-19T23:17:32.366527Z",
          "start_time": "2025-05-19T23:17:32.362359Z"
        },
        "id": "22a29d1bbeffd0dd"
      },
      "cell_type": "code",
      "source": [
        "# This is our first agent that will use the emailer_agent as a handoff\n",
        "reservation_agent = Agent(\n",
        "    name=\"Reservation Manager\",\n",
        "    instructions=f\"\"\"\n",
        "    You are a helpful tourist reservation assistant. Help the user select an activity from the list below,\n",
        "confirm reservation details (name, email, date, number of people), and save it using save_reservation.\n",
        "\n",
        "Then hand off to the Email Manager to create a nicely formatted HTML confirmation email and send it. The email must include the reservation details, including the activity name, date, number of people, the user's name, and the total price of the reservation.\n",
        "\n",
        "Be sure to ask for the user's email address if they haven't provided it yet.\n",
        "\n",
        "Finally, generate an invoice of the reservation.\n",
        "\n",
        "Activities available:\n",
        "{activities_markdown}\n",
        "\"\"\",\n",
        "    tools=[save_reservation, generate_invoice],\n",
        "    model=\"gpt-4o-mini\",\n",
        "    handoffs=[emailer_agent],\n",
        "\n",
        ")"
      ],
      "id": "22a29d1bbeffd0dd",
      "outputs": [],
      "execution_count": null
    },
    {
      "metadata": {
        "ExecuteTime": {
          "end_time": "2025-05-19T23:17:54.949748Z",
          "start_time": "2025-05-19T23:17:33.837035Z"
        },
        "id": "f8a925e954721e63"
      },
      "cell_type": "code",
      "source": [
        "message = (\"\"\"\n",
        "           Hello, I would like to book a Paragliding Experience for 2 people on the 15th of October.\n",
        "           My name is Diogo. My email is diogo.nt.freitas@gmail.com\n",
        "           \"\"\")\n",
        "\n",
        "with trace(\"Automated Reservation\"):\n",
        "    result = await Runner.run(reservation_agent, message)"
      ],
      "id": "f8a925e954721e63",
      "outputs": [],
      "execution_count": null
    },
    {
      "metadata": {
        "ExecuteTime": {
          "end_time": "2025-05-19T23:17:54.987576Z",
          "start_time": "2025-05-19T23:17:54.979105Z"
        },
        "id": "a4d7d069065620c7"
      },
      "cell_type": "code",
      "source": [
        "display(Markdown(result.final_output))"
      ],
      "id": "a4d7d069065620c7",
      "outputs": [],
      "execution_count": null
    },
    {
      "metadata": {
        "id": "3d81dbf48fd15493"
      },
      "cell_type": "markdown",
      "source": [
        "# Agents are also compatible with structured output"
      ],
      "id": "3d81dbf48fd15493"
    },
    {
      "metadata": {
        "ExecuteTime": {
          "end_time": "2025-05-19T23:13:26.163841Z",
          "start_time": "2025-05-19T23:13:26.158360Z"
        },
        "id": "5e1adbd2e7249833"
      },
      "cell_type": "code",
      "source": [
        "\n",
        "class GenerateItinerary(BaseModel):\n",
        "    \"\"\"A structured itinerary based on a reservation in Madeira Island.\"\"\"\n",
        "\n",
        "    name: str\n",
        "    \"\"\"Name of the guest\"\"\"\n",
        "\n",
        "    activity: str\n",
        "    \"\"\"The reserved activity (e.g., canyoning, dolphin watching)\"\"\"\n",
        "\n",
        "    date: str\n",
        "    \"\"\"The date of the reservation\"\"\"\n",
        "\n",
        "    start_time: str\n",
        "    \"\"\"The suggested start time for the activity\"\"\"\n",
        "\n",
        "    preparation_tips: List[str]\n",
        "    \"\"\"List of things to bring or prepare\"\"\"\n",
        "\n",
        "    nearby_food: str\n",
        "    \"\"\"Suggested restaurant or food option near the activity\"\"\"\n",
        "\n",
        "    after_activity_suggestion: str\n",
        "    \"\"\"What to do after the activity to enjoy the area more\"\"\""
      ],
      "id": "5e1adbd2e7249833",
      "outputs": [],
      "execution_count": null
    },
    {
      "metadata": {
        "ExecuteTime": {
          "end_time": "2025-05-19T23:17:55.014336Z",
          "start_time": "2025-05-19T23:17:55.004713Z"
        },
        "id": "fdf980895325b57c"
      },
      "cell_type": "code",
      "source": [
        "itinerary_agent = Agent(\n",
        "    name=\"ItineraryPlannerAgent\",\n",
        "    instructions=f\"\"\"\n",
        "    {RECOMMENDED_PROMPT_PREFIX}\n",
        "    You are a helpful travel guide based in Madeira Island.\n",
        "    Given a reservation (name, activity, date), return a detailed itinerary using the structured output format.\n",
        "\n",
        "    Include the activity start time, preparation tips, a place to eat nearby, and something fun to do afterward.\n",
        "    Be friendly and concise.\n",
        "    \"\"\",\n",
        "    model=\"gpt-4o-mini\",\n",
        "    output_type=GenerateItinerary\n",
        ")\n",
        "\n",
        "itinerary_tool = itinerary_agent.as_tool(tool_name=\"itinerary_planner\",\n",
        "                                         tool_description=\"Given a reservation, return a detailed itinerary.\")\n"
      ],
      "id": "fdf980895325b57c",
      "outputs": [],
      "execution_count": null
    },
    {
      "metadata": {
        "ExecuteTime": {
          "end_time": "2025-05-19T23:18:00.994791Z",
          "start_time": "2025-05-19T23:18:00.970190Z"
        },
        "id": "22dd7f0c7511e50d"
      },
      "cell_type": "code",
      "source": [
        "# Let's add the itinerary agent to the reservation agent\n",
        "reservation_agent = Agent(\n",
        "    name=\"Reservation Manager\",\n",
        "    instructions=f\"\"\"\n",
        "    You are a helpful tourist reservation assistant. Help the user select an activity from the list below,\n",
        "confirm reservation details (name, email, date, number of people), and save it using save_reservation.\n",
        "\n",
        "Please, based on the reservation, generate a detailed itinerary.\n",
        "\n",
        "Then hand off to the Email Manager to create a nicely formatted HTML confirmation email and send it. The email must include the reservation details, including the activity name, date, number of people, the user's name, and the total price of the reservation. Include the itinerary in the email.\n",
        "\n",
        "Be sure to ask for the user's email address if they haven't provided it yet.\n",
        "\n",
        "\n",
        "Finally, generate an invoice of the reservation.\n",
        "\n",
        "Activities available:\n",
        "{activities_markdown}\n",
        "\"\"\",\n",
        "    tools=[save_reservation, generate_invoice, itinerary_tool],\n",
        "    model=\"gpt-4o-mini\",\n",
        "    handoffs=[emailer_agent],\n",
        ")"
      ],
      "id": "22dd7f0c7511e50d",
      "outputs": [],
      "execution_count": null
    },
    {
      "metadata": {
        "ExecuteTime": {
          "end_time": "2025-05-19T23:18:32.593644Z",
          "start_time": "2025-05-19T23:18:04.868016Z"
        },
        "id": "c1e83a2015358278"
      },
      "cell_type": "code",
      "source": [
        "message = (\n",
        "    \"Hello, I would like to book a Paragliding Experience for 2 people on the 15th of October. My name is Diogo. My email is diogo.nt.freitas@gmail.com\")\n",
        "\n",
        "with trace(\"Automated Reservation\"):\n",
        "    result = await Runner.run(reservation_agent, message)"
      ],
      "id": "c1e83a2015358278",
      "outputs": [],
      "execution_count": null
    },
    {
      "metadata": {
        "ExecuteTime": {
          "end_time": "2025-05-19T23:20:18.036307Z",
          "start_time": "2025-05-19T23:20:18.030125Z"
        },
        "id": "4b2eb261eb55424d"
      },
      "cell_type": "code",
      "source": [
        "display(Markdown(result.final_output))"
      ],
      "id": "4b2eb261eb55424d",
      "outputs": [],
      "execution_count": null
    },
    {
      "metadata": {
        "id": "fb8e95cf94af624e"
      },
      "cell_type": "markdown",
      "source": [
        "# Guardrails\n",
        "\n",
        "Guardrails are a way to validate the inputs to an agent. They are used to ensure that the inputs to an agent are valid and do not contain any sensitive information. Guardrails can be used to validate the inputs to an agent, and they can also be used to validate the outputs of an agent.\n",
        "\n",
        "In this example, we will create a guardrail that checks if the user is including a date in the future, not in the past and within one year from today."
      ],
      "id": "fb8e95cf94af624e"
    },
    {
      "metadata": {
        "ExecuteTime": {
          "end_time": "2025-05-20T01:15:07.513886Z",
          "start_time": "2025-05-20T01:15:07.427826Z"
        },
        "id": "39b75656253359d"
      },
      "cell_type": "code",
      "source": [
        "from agents import input_guardrail, GuardrailFunctionOutput\n",
        "\n",
        "\n",
        "class DateValidationOutput(BaseModel):\n",
        "    is_valid_date: bool\n",
        "    \"\"\"Indicates whether the provided date is valid (not in the past and within one year from today).\"\"\"\n",
        "\n",
        "    parsed_date: str\n",
        "    \"\"\"The parsed date object in 'YYYY-MM-DD' format.\"\"\"\n",
        "\n",
        "\n",
        "guardrail_date_agent = Agent(\n",
        "    name=\"Date check\",\n",
        "    instructions=\"Check if the user is including a date in the future, not in the past and within one year from today.\",\n",
        "    output_type=DateValidationOutput,\n",
        "    model=\"gpt-4o-mini\"\n",
        ")\n",
        "\n",
        "\n",
        "@input_guardrail\n",
        "async def guardrail_date(ctx, agent, message):\n",
        "    result = await Runner.run(guardrail_date_agent, message, context=ctx.context)\n",
        "    is_date_valid = result.final_output.is_valid_date\n",
        "    return GuardrailFunctionOutput(output_info={\"planed_date\": result.final_output},\n",
        "                                   tripwire_triggered=not is_date_valid)"
      ],
      "id": "39b75656253359d",
      "outputs": [],
      "execution_count": null
    },
    {
      "metadata": {
        "ExecuteTime": {
          "end_time": "2025-05-19T13:08:02.347972Z",
          "start_time": "2025-05-19T13:08:02.345412Z"
        },
        "id": "6b150c4576157e3e"
      },
      "cell_type": "code",
      "source": [
        "reservation_agent = Agent(\n",
        "    name=\"Reservation Manager\",\n",
        "    instructions=f\"\"\"\n",
        "    You are a helpful tourist reservation assistant. Help the user select an activity from the list below,\n",
        "confirm reservation details (name, email, date, number of people), and save it using save_reservation.\n",
        "\n",
        "Please, based on the reservation, generate a detailed itinerary.\n",
        "\n",
        "Then hand off to the Email Manager to create a nicely formatted HTML confirmation email and send it. The email must include the reservation details, including the activity name, date, number of people, the user's name, and the total price of the reservation. Include the itinerary in the email.\n",
        "\n",
        "Be sure to ask for the user's email address if they haven't provided it yet.\n",
        "\n",
        "\n",
        "Finally, generate an invoice of the reservation.\n",
        "\n",
        "Activities available:\n",
        "{activities_markdown}\n",
        "\"\"\",\n",
        "    tools=[save_reservation, generate_invoice, itinerary_tool],\n",
        "    model=\"gpt-4o-mini\",\n",
        "    handoffs=[emailer_agent],\n",
        "    input_guardrails=[guardrail_date]\n",
        "\n",
        ")"
      ],
      "id": "6b150c4576157e3e",
      "outputs": [],
      "execution_count": null
    },
    {
      "metadata": {
        "ExecuteTime": {
          "end_time": "2025-05-19T13:13:20.957856Z",
          "start_time": "2025-05-19T13:12:02.867168Z"
        },
        "id": "a7bbb9f450779564"
      },
      "cell_type": "code",
      "source": [
        "message = (\n",
        "    \"Hello, I would like to book a Paragliding Experience for 2 people on the 20th of October 1996. My name is Diogo. My email is diogo.nt.freitas@gmail.com\")\n",
        "\n",
        "with trace(\"Automated Reservation\"):\n",
        "    result = await Runner.run(reservation_agent, message)"
      ],
      "id": "a7bbb9f450779564",
      "outputs": [],
      "execution_count": null
    }
  ],
  "metadata": {
    "kernelspec": {
      "display_name": "Python 3",
      "language": "python",
      "name": "python3"
    },
    "language_info": {
      "codemirror_mode": {
        "name": "ipython",
        "version": 2
      },
      "file_extension": ".py",
      "mimetype": "text/x-python",
      "name": "python",
      "nbconvert_exporter": "python",
      "pygments_lexer": "ipython2",
      "version": "2.7.6"
    },
    "colab": {
      "provenance": [],
      "include_colab_link": true
    }
  },
  "nbformat": 4,
  "nbformat_minor": 5
}